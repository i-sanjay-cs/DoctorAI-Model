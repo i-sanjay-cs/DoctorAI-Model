{
 "cells": [
  {
   "cell_type": "code",
   "execution_count": 1,
   "metadata": {},
   "outputs": [
    {
     "name": "stdout",
     "output_type": "stream",
     "text": [
      "1/1 [==============================] - 1s 981ms/step\n",
      "Predicted class: Tuberculosis\n",
      "Confidence: 99.82%\n"
     ]
    }
   ],
   "source": [
    "import numpy as np\n",
    "import tensorflow as tf\n",
    "from tensorflow.keras.preprocessing.image import load_img, img_to_array\n",
    "from tensorflow.keras.applications.densenet import preprocess_input\n",
    "from tensorflow.keras.models import load_model\n",
    "\n",
    "# Define the path to your saved model\n",
    "model_path = 'tb3_model.h5'\n",
    "\n",
    "# Load the saved model\n",
    "model = load_model(model_path)\n",
    "\n",
    "def test_single_image(image_path, model):\n",
    "    # Load and preprocess the image\n",
    "    img = load_img(image_path, target_size=(224, 224))\n",
    "    img_array = img_to_array(img)\n",
    "    img_array = np.expand_dims(img_array, axis=0)\n",
    "    img_array = preprocess_input(img_array)\n",
    "\n",
    "    # Make prediction using the model\n",
    "    prediction = model.predict(img_array)\n",
    "\n",
    "    # Calculate confidence of the predicted class\n",
    "    confidence = prediction[0][0] if prediction[0][0] > 0.5 else 1 - prediction[0][0]\n",
    "    confidence_percentage = confidence * 100\n",
    "\n",
    "    # Determine predicted class based on confidence\n",
    "    predicted_class = \"Tuberculosis\" if prediction[0][0] > 0.5 else \"Normal\"\n",
    "\n",
    "    return predicted_class, confidence_percentage\n",
    "\n",
    "# Define the path to your single input image\n",
    "image_path = '/Users/arshdeepsingh/Documents/tuberculosis_detection_v2_ensemble_model/test/Tuberculosis/Tuberculosis-6.png'\n",
    "\n",
    "# Test the single image\n",
    "predicted_class, confidence_percentage = test_single_image(image_path, model)\n",
    "\n",
    "print(\"Predicted class:\", predicted_class)\n",
    "print(\"Confidence: {:.2f}%\".format(confidence_percentage))\n"
   ]
  },
  {
   "cell_type": "code",
   "execution_count": null,
   "metadata": {},
   "outputs": [],
   "source": []
  }
 ],
 "metadata": {
  "kernelspec": {
   "display_name": "Python 3",
   "language": "python",
   "name": "python3"
  },
  "language_info": {
   "codemirror_mode": {
    "name": "ipython",
    "version": 3
   },
   "file_extension": ".py",
   "mimetype": "text/x-python",
   "name": "python",
   "nbconvert_exporter": "python",
   "pygments_lexer": "ipython3",
   "version": "3.11.3"
  }
 },
 "nbformat": 4,
 "nbformat_minor": 2
}
