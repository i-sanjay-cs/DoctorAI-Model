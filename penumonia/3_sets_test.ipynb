{
 "cells": [
  {
   "cell_type": "code",
   "execution_count": 1,
   "metadata": {},
   "outputs": [
    {
     "name": "stdout",
     "output_type": "stream",
     "text": [
      "1/1 [==============================] - 0s 71ms/step\n",
      "Predicted Class Name: VIRUS PNEUMONIA\n",
      "Confidence Percentage: 44.072315096855164\n"
     ]
    }
   ],
   "source": [
    "from tensorflow.keras.models import load_model\n",
    "from tensorflow.keras.preprocessing import image\n",
    "import numpy as np\n",
    "\n",
    "# Load the saved model\n",
    "saved_model_path = 'pneumonia_detection_with_classes_model.h5'  # Replace with the actual path to your saved model\n",
    "loaded_model = load_model(saved_model_path)\n",
    "\n",
    "# Load an image for prediction (adjust the path accordingly)\n",
    "img_path = '/Users/arshdeepsingh/Documents/Final_pneumonia_detection/test/PNEUMONIA/VIRUS/person3_virus_15.jpeg'\n",
    "img = image.load_img(img_path, target_size=(150, 150))\n",
    "\n",
    "# Preprocess the image for prediction\n",
    "img_array = image.img_to_array(img)\n",
    "img_array = np.expand_dims(img_array, axis=0)\n",
    "img_array /= 255.0  # Normalize the image\n",
    "\n",
    "# Make predictions\n",
    "predictions = loaded_model.predict(img_array)\n",
    "\n",
    "# Get the class labels from the training data generator\n",
    "class_labels = ['BACTERIAL PNEUMONIA', 'NORMAL', 'VIRUS PNEUMONIA']  # Replace with your desired class labels\n",
    "\n",
    "# # Display the predictions for each class\n",
    "# for i, class_label in enumerate(class_labels):\n",
    "#     confidence_percentage = predictions[0][i] * 100\n",
    "#     print(f\"{class_label}: {confidence_percentage:.2f}%\")\n",
    "\n",
    "# Get the predicted class index\n",
    "predicted_class_index = np.argmax(predictions)\n",
    "\n",
    "# Get the predicted class name\n",
    "predicted_class_name = class_labels[predicted_class_index]\n",
    "\n",
    "# Get the confidence (percentage) for the predicted class\n",
    "confidence_percentage = predictions[0][predicted_class_index] * 100\n",
    "\n",
    "# Print the results\n",
    "print(\"Predicted Class Name:\", predicted_class_name)\n",
    "print(\"Confidence Percentage:\", confidence_percentage)"
   ]
  },
  {
   "cell_type": "code",
   "execution_count": 6,
   "metadata": {},
   "outputs": [
    {
     "name": "stdout",
     "output_type": "stream",
     "text": [
      "Found 5209 images belonging to 3 classes.\n",
      "Found 23 images belonging to 3 classes.\n",
      "Epoch 1/10\n",
      "162/162 [==============================] - 51s 310ms/step - loss: 0.9818 - accuracy: 0.5127\n",
      "Epoch 2/10\n",
      "162/162 [==============================] - 51s 314ms/step - loss: 0.6981 - accuracy: 0.6879\n",
      "Epoch 3/10\n",
      "162/162 [==============================] - 52s 317ms/step - loss: 0.6538 - accuracy: 0.7108\n",
      "Epoch 4/10\n",
      "162/162 [==============================] - 52s 317ms/step - loss: 0.6139 - accuracy: 0.7217\n",
      "Epoch 5/10\n",
      "162/162 [==============================] - 52s 320ms/step - loss: 0.5795 - accuracy: 0.7367\n",
      "Epoch 6/10\n",
      "162/162 [==============================] - 53s 324ms/step - loss: 0.5634 - accuracy: 0.7462\n",
      "Epoch 7/10\n",
      "162/162 [==============================] - 53s 325ms/step - loss: 0.5634 - accuracy: 0.7479\n",
      "Epoch 8/10\n",
      "162/162 [==============================] - 53s 328ms/step - loss: 0.5547 - accuracy: 0.7553\n",
      "Epoch 9/10\n",
      "162/162 [==============================] - 53s 327ms/step - loss: 0.5322 - accuracy: 0.7607\n",
      "Epoch 10/10\n",
      "162/162 [==============================] - 53s 327ms/step - loss: 0.5357 - accuracy: 0.7531\n"
     ]
    },
    {
     "name": "stderr",
     "output_type": "stream",
     "text": [
      "/Library/Frameworks/Python.framework/Versions/3.11/lib/python3.11/site-packages/keras/src/engine/training.py:3000: UserWarning: You are saving your model as an HDF5 file via `model.save()`. This file format is considered legacy. We recommend using instead the native Keras format, e.g. `model.save('my_model.keras')`.\n",
      "  saving_api.save_model(\n"
     ]
    }
   ],
   "source": [
    "%run '/Users/arshdeepsingh/Documents/pneumonia_detection/3_sets.ipynb'\n"
   ]
  }
 ],
 "metadata": {
  "kernelspec": {
   "display_name": "Python 3",
   "language": "python",
   "name": "python3"
  },
  "language_info": {
   "codemirror_mode": {
    "name": "ipython",
    "version": 3
   },
   "file_extension": ".py",
   "mimetype": "text/x-python",
   "name": "python",
   "nbconvert_exporter": "python",
   "pygments_lexer": "ipython3",
   "version": "3.11.3"
  }
 },
 "nbformat": 4,
 "nbformat_minor": 2
}
