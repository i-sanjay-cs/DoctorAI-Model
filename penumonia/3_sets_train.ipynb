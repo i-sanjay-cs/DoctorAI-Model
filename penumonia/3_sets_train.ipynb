{
 "cells": [
  {
   "cell_type": "code",
   "execution_count": 6,
   "metadata": {},
   "outputs": [
    {
     "name": "stdout",
     "output_type": "stream",
     "text": [
      "Found 5209 images belonging to 3 classes.\n",
      "Found 23 images belonging to 3 classes.\n",
      "Epoch 1/10\n",
      "162/162 [==============================] - 51s 311ms/step - loss: 0.9352 - accuracy: 0.5177\n",
      "Epoch 2/10\n",
      "162/162 [==============================] - 51s 316ms/step - loss: 0.7083 - accuracy: 0.6936\n",
      "Epoch 3/10\n",
      "162/162 [==============================] - 52s 320ms/step - loss: 0.6625 - accuracy: 0.7006\n",
      "Epoch 4/10\n",
      "162/162 [==============================] - 53s 328ms/step - loss: 0.6227 - accuracy: 0.7302\n",
      "Epoch 5/10\n",
      "162/162 [==============================] - 54s 332ms/step - loss: 0.5862 - accuracy: 0.7358\n",
      "Epoch 6/10\n",
      "162/162 [==============================] - 54s 332ms/step - loss: 0.5852 - accuracy: 0.7388\n",
      "Epoch 7/10\n",
      "162/162 [==============================] - 54s 330ms/step - loss: 0.5608 - accuracy: 0.7452\n",
      "Epoch 8/10\n",
      "162/162 [==============================] - 53s 328ms/step - loss: 0.5618 - accuracy: 0.7512\n",
      "Epoch 9/10\n",
      "162/162 [==============================] - 54s 330ms/step - loss: 0.5602 - accuracy: 0.7514\n",
      "Epoch 10/10\n",
      "162/162 [==============================] - 54s 331ms/step - loss: 0.5348 - accuracy: 0.7638\n"
     ]
    },
    {
     "data": {
      "text/plain": [
       "<keras.src.callbacks.History at 0x1737e2d50>"
      ]
     },
     "execution_count": 6,
     "metadata": {},
     "output_type": "execute_result"
    }
   ],
   "source": [
    "import tensorflow as tf\n",
    "from tensorflow.keras.models import Sequential\n",
    "from tensorflow.keras.layers import Conv2D, MaxPooling2D, Flatten, Dense, Dropout\n",
    "from tensorflow.keras.preprocessing.image import ImageDataGenerator\n",
    "from tensorflow.keras.utils import to_categorical\n",
    "import numpy as np\n",
    "\n",
    "# Define paths to your train and validation data\n",
    "train_dir = '/Users/arshdeepsingh/Documents/pneumonia_detection/train'\n",
    "val_dir = '/Users/arshdeepsingh/Documents/pneumonia_detection/val'\n",
    "\n",
    "# Define image dimensions and batch size\n",
    "img_width, img_height = 150, 150\n",
    "batch_size = 32\n",
    "\n",
    "# Create data generators with data augmentation for the training set\n",
    "train_datagen = ImageDataGenerator(\n",
    "    rescale=1./255,\n",
    "    shear_range=0.2,\n",
    "    zoom_range=0.2,\n",
    "    horizontal_flip=True\n",
    ")\n",
    "\n",
    "train_generator = train_datagen.flow_from_directory(\n",
    "    train_dir,\n",
    "    target_size=(img_width, img_height),\n",
    "    batch_size=batch_size,\n",
    "    class_mode='categorical',  # Change class_mode to 'categorical' for multiple classes\n",
    "    shuffle=True\n",
    ")\n",
    "\n",
    "# Create a data generator for the validation set (no data augmentation)\n",
    "val_datagen = ImageDataGenerator(rescale=1./255)\n",
    "\n",
    "val_generator = val_datagen.flow_from_directory(\n",
    "    val_dir,\n",
    "    target_size=(img_width, img_height),\n",
    "    batch_size=batch_size,\n",
    "    class_mode='categorical',  # Change class_mode to 'categorical' for multiple classes\n",
    "    shuffle=False\n",
    ")\n",
    "\n",
    "# Calculate class weights for imbalanced data\n",
    "def compute_class_weights(labels):\n",
    "    class_weights = {}\n",
    "    total_samples = len(labels)\n",
    "\n",
    "    for class_label in np.unique(labels):\n",
    "        class_count = np.sum(labels == class_label)\n",
    "        class_weights[class_label] = total_samples / (len(np.unique(labels)) * class_count)\n",
    "\n",
    "    return class_weights\n",
    "\n",
    "class_weights = compute_class_weights(train_generator.classes)\n",
    "\n",
    "# Convert integer labels to one-hot encoded labels\n",
    "train_generator_labels_one_hot = to_categorical(train_generator.labels, num_classes=3)\n",
    "val_generator_labels_one_hot = to_categorical(val_generator.labels, num_classes=3)\n",
    "\n",
    "# Build the CNN model\n",
    "model = Sequential()\n",
    "\n",
    "model.add(Conv2D(32, (3, 3), input_shape=(img_width, img_height, 3), activation='relu'))\n",
    "model.add(MaxPooling2D(pool_size=(2, 2)))\n",
    "\n",
    "model.add(Conv2D(64, (3, 3), activation='relu'))\n",
    "model.add(MaxPooling2D(pool_size=(2, 2)))\n",
    "\n",
    "model.add(Conv2D(128, (3, 3), activation='relu'))\n",
    "model.add(MaxPooling2D(pool_size=(2, 2)))\n",
    "\n",
    "model.add(Flatten())\n",
    "model.add(Dense(256, activation='relu'))\n",
    "model.add(Dropout(0.5))\n",
    "model.add(Dense(3, activation='softmax'))  # Adjust the number of neurons for three classes\n",
    "\n",
    "# Compile the model\n",
    "model.compile(optimizer='adam', loss='categorical_crossentropy', metrics=['accuracy'])\n",
    "\n",
    "# Train the model with class weights\n",
    "model.fit(\n",
    "    train_generator,\n",
    "    steps_per_epoch=train_generator.samples // batch_size,\n",
    "    epochs=10,\n",
    "    validation_data=val_generator,\n",
    "    validation_steps=val_generator.samples // batch_size,\n",
    "    class_weight=class_weights\n",
    ")\n"
   ]
  },
  {
   "cell_type": "code",
   "execution_count": 7,
   "metadata": {},
   "outputs": [
    {
     "name": "stderr",
     "output_type": "stream",
     "text": [
      "/Library/Frameworks/Python.framework/Versions/3.11/lib/python3.11/site-packages/keras/src/engine/training.py:3000: UserWarning: You are saving your model as an HDF5 file via `model.save()`. This file format is considered legacy. We recommend using instead the native Keras format, e.g. `model.save('my_model.keras')`.\n",
      "  saving_api.save_model(\n"
     ]
    }
   ],
   "source": [
    "model.save('pneumonia_detection_with_classes_model.h5')\n"
   ]
  },
  {
   "cell_type": "code",
   "execution_count": null,
   "metadata": {},
   "outputs": [],
   "source": []
  }
 ],
 "metadata": {
  "kernelspec": {
   "display_name": "Python 3",
   "language": "python",
   "name": "python3"
  },
  "language_info": {
   "codemirror_mode": {
    "name": "ipython",
    "version": 3
   },
   "file_extension": ".py",
   "mimetype": "text/x-python",
   "name": "python",
   "nbconvert_exporter": "python",
   "pygments_lexer": "ipython3",
   "version": "3.11.3"
  }
 },
 "nbformat": 4,
 "nbformat_minor": 2
}
